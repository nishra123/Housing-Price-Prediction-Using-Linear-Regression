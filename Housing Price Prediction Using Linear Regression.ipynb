{
 "cells": [
  {
   "cell_type": "code",
   "execution_count": 32,
   "id": "d2403ef6",
   "metadata": {},
   "outputs": [],
   "source": [
    "import matplotlib.pyplot as plt\n",
    "import numpy as np\n",
    "import pandas as pd"
   ]
  },
  {
   "cell_type": "code",
   "execution_count": 2,
   "id": "05fa6094",
   "metadata": {},
   "outputs": [],
   "source": [
    "data = pd.read_csv('train_data.csv')"
   ]
  },
  {
   "cell_type": "code",
   "execution_count": 3,
   "id": "5b26cf91",
   "metadata": {},
   "outputs": [
    {
     "data": {
      "text/html": [
       "<div>\n",
       "<style scoped>\n",
       "    .dataframe tbody tr th:only-of-type {\n",
       "        vertical-align: middle;\n",
       "    }\n",
       "\n",
       "    .dataframe tbody tr th {\n",
       "        vertical-align: top;\n",
       "    }\n",
       "\n",
       "    .dataframe thead th {\n",
       "        text-align: right;\n",
       "    }\n",
       "</style>\n",
       "<table border=\"1\" class=\"dataframe\">\n",
       "  <thead>\n",
       "    <tr style=\"text-align: right;\">\n",
       "      <th></th>\n",
       "      <th>size</th>\n",
       "      <th>price</th>\n",
       "    </tr>\n",
       "  </thead>\n",
       "  <tbody>\n",
       "    <tr>\n",
       "      <th>0</th>\n",
       "      <td>1600</td>\n",
       "      <td>329900</td>\n",
       "    </tr>\n",
       "    <tr>\n",
       "      <th>1</th>\n",
       "      <td>2400</td>\n",
       "      <td>369000</td>\n",
       "    </tr>\n",
       "    <tr>\n",
       "      <th>2</th>\n",
       "      <td>1416</td>\n",
       "      <td>232000</td>\n",
       "    </tr>\n",
       "    <tr>\n",
       "      <th>3</th>\n",
       "      <td>3000</td>\n",
       "      <td>539900</td>\n",
       "    </tr>\n",
       "    <tr>\n",
       "      <th>4</th>\n",
       "      <td>1985</td>\n",
       "      <td>299900</td>\n",
       "    </tr>\n",
       "    <tr>\n",
       "      <th>5</th>\n",
       "      <td>1534</td>\n",
       "      <td>314900</td>\n",
       "    </tr>\n",
       "    <tr>\n",
       "      <th>6</th>\n",
       "      <td>1427</td>\n",
       "      <td>198999</td>\n",
       "    </tr>\n",
       "    <tr>\n",
       "      <th>7</th>\n",
       "      <td>1380</td>\n",
       "      <td>212000</td>\n",
       "    </tr>\n",
       "    <tr>\n",
       "      <th>8</th>\n",
       "      <td>1494</td>\n",
       "      <td>242500</td>\n",
       "    </tr>\n",
       "    <tr>\n",
       "      <th>9</th>\n",
       "      <td>1940</td>\n",
       "      <td>239999</td>\n",
       "    </tr>\n",
       "    <tr>\n",
       "      <th>10</th>\n",
       "      <td>2000</td>\n",
       "      <td>347000</td>\n",
       "    </tr>\n",
       "    <tr>\n",
       "      <th>11</th>\n",
       "      <td>1890</td>\n",
       "      <td>329999</td>\n",
       "    </tr>\n",
       "    <tr>\n",
       "      <th>12</th>\n",
       "      <td>4478</td>\n",
       "      <td>699900</td>\n",
       "    </tr>\n",
       "    <tr>\n",
       "      <th>13</th>\n",
       "      <td>1268</td>\n",
       "      <td>259900</td>\n",
       "    </tr>\n",
       "    <tr>\n",
       "      <th>14</th>\n",
       "      <td>2300</td>\n",
       "      <td>449900</td>\n",
       "    </tr>\n",
       "    <tr>\n",
       "      <th>15</th>\n",
       "      <td>1320</td>\n",
       "      <td>299900</td>\n",
       "    </tr>\n",
       "    <tr>\n",
       "      <th>16</th>\n",
       "      <td>1236</td>\n",
       "      <td>199900</td>\n",
       "    </tr>\n",
       "    <tr>\n",
       "      <th>17</th>\n",
       "      <td>2609</td>\n",
       "      <td>499998</td>\n",
       "    </tr>\n",
       "    <tr>\n",
       "      <th>18</th>\n",
       "      <td>3031</td>\n",
       "      <td>599000</td>\n",
       "    </tr>\n",
       "    <tr>\n",
       "      <th>19</th>\n",
       "      <td>1767</td>\n",
       "      <td>252900</td>\n",
       "    </tr>\n",
       "    <tr>\n",
       "      <th>20</th>\n",
       "      <td>1888</td>\n",
       "      <td>255000</td>\n",
       "    </tr>\n",
       "    <tr>\n",
       "      <th>21</th>\n",
       "      <td>1604</td>\n",
       "      <td>242900</td>\n",
       "    </tr>\n",
       "    <tr>\n",
       "      <th>22</th>\n",
       "      <td>1962</td>\n",
       "      <td>259900</td>\n",
       "    </tr>\n",
       "    <tr>\n",
       "      <th>23</th>\n",
       "      <td>3890</td>\n",
       "      <td>573900</td>\n",
       "    </tr>\n",
       "    <tr>\n",
       "      <th>24</th>\n",
       "      <td>1100</td>\n",
       "      <td>249900</td>\n",
       "    </tr>\n",
       "    <tr>\n",
       "      <th>25</th>\n",
       "      <td>1458</td>\n",
       "      <td>464500</td>\n",
       "    </tr>\n",
       "    <tr>\n",
       "      <th>26</th>\n",
       "      <td>2526</td>\n",
       "      <td>469000</td>\n",
       "    </tr>\n",
       "    <tr>\n",
       "      <th>27</th>\n",
       "      <td>2200</td>\n",
       "      <td>475000</td>\n",
       "    </tr>\n",
       "    <tr>\n",
       "      <th>28</th>\n",
       "      <td>2637</td>\n",
       "      <td>299900</td>\n",
       "    </tr>\n",
       "    <tr>\n",
       "      <th>29</th>\n",
       "      <td>1839</td>\n",
       "      <td>349900</td>\n",
       "    </tr>\n",
       "    <tr>\n",
       "      <th>30</th>\n",
       "      <td>1000</td>\n",
       "      <td>169900</td>\n",
       "    </tr>\n",
       "    <tr>\n",
       "      <th>31</th>\n",
       "      <td>2040</td>\n",
       "      <td>314900</td>\n",
       "    </tr>\n",
       "    <tr>\n",
       "      <th>32</th>\n",
       "      <td>3137</td>\n",
       "      <td>579900</td>\n",
       "    </tr>\n",
       "    <tr>\n",
       "      <th>33</th>\n",
       "      <td>1811</td>\n",
       "      <td>285900</td>\n",
       "    </tr>\n",
       "    <tr>\n",
       "      <th>34</th>\n",
       "      <td>1437</td>\n",
       "      <td>249900</td>\n",
       "    </tr>\n",
       "    <tr>\n",
       "      <th>35</th>\n",
       "      <td>1239</td>\n",
       "      <td>229900</td>\n",
       "    </tr>\n",
       "    <tr>\n",
       "      <th>36</th>\n",
       "      <td>2132</td>\n",
       "      <td>345000</td>\n",
       "    </tr>\n",
       "    <tr>\n",
       "      <th>37</th>\n",
       "      <td>4215</td>\n",
       "      <td>549000</td>\n",
       "    </tr>\n",
       "    <tr>\n",
       "      <th>38</th>\n",
       "      <td>2162</td>\n",
       "      <td>287000</td>\n",
       "    </tr>\n",
       "    <tr>\n",
       "      <th>39</th>\n",
       "      <td>1664</td>\n",
       "      <td>368500</td>\n",
       "    </tr>\n",
       "    <tr>\n",
       "      <th>40</th>\n",
       "      <td>2238</td>\n",
       "      <td>329900</td>\n",
       "    </tr>\n",
       "    <tr>\n",
       "      <th>41</th>\n",
       "      <td>2567</td>\n",
       "      <td>314000</td>\n",
       "    </tr>\n",
       "    <tr>\n",
       "      <th>42</th>\n",
       "      <td>1200</td>\n",
       "      <td>299000</td>\n",
       "    </tr>\n",
       "    <tr>\n",
       "      <th>43</th>\n",
       "      <td>852</td>\n",
       "      <td>179900</td>\n",
       "    </tr>\n",
       "    <tr>\n",
       "      <th>44</th>\n",
       "      <td>1852</td>\n",
       "      <td>299900</td>\n",
       "    </tr>\n",
       "    <tr>\n",
       "      <th>45</th>\n",
       "      <td>1203</td>\n",
       "      <td>239500</td>\n",
       "    </tr>\n",
       "  </tbody>\n",
       "</table>\n",
       "</div>"
      ],
      "text/plain": [
       "    size   price\n",
       "0   1600  329900\n",
       "1   2400  369000\n",
       "2   1416  232000\n",
       "3   3000  539900\n",
       "4   1985  299900\n",
       "5   1534  314900\n",
       "6   1427  198999\n",
       "7   1380  212000\n",
       "8   1494  242500\n",
       "9   1940  239999\n",
       "10  2000  347000\n",
       "11  1890  329999\n",
       "12  4478  699900\n",
       "13  1268  259900\n",
       "14  2300  449900\n",
       "15  1320  299900\n",
       "16  1236  199900\n",
       "17  2609  499998\n",
       "18  3031  599000\n",
       "19  1767  252900\n",
       "20  1888  255000\n",
       "21  1604  242900\n",
       "22  1962  259900\n",
       "23  3890  573900\n",
       "24  1100  249900\n",
       "25  1458  464500\n",
       "26  2526  469000\n",
       "27  2200  475000\n",
       "28  2637  299900\n",
       "29  1839  349900\n",
       "30  1000  169900\n",
       "31  2040  314900\n",
       "32  3137  579900\n",
       "33  1811  285900\n",
       "34  1437  249900\n",
       "35  1239  229900\n",
       "36  2132  345000\n",
       "37  4215  549000\n",
       "38  2162  287000\n",
       "39  1664  368500\n",
       "40  2238  329900\n",
       "41  2567  314000\n",
       "42  1200  299000\n",
       "43   852  179900\n",
       "44  1852  299900\n",
       "45  1203  239500"
      ]
     },
     "execution_count": 3,
     "metadata": {},
     "output_type": "execute_result"
    }
   ],
   "source": [
    "data"
   ]
  },
  {
   "cell_type": "code",
   "execution_count": 4,
   "id": "14833848",
   "metadata": {},
   "outputs": [
    {
     "data": {
      "text/html": [
       "<div>\n",
       "<style scoped>\n",
       "    .dataframe tbody tr th:only-of-type {\n",
       "        vertical-align: middle;\n",
       "    }\n",
       "\n",
       "    .dataframe tbody tr th {\n",
       "        vertical-align: top;\n",
       "    }\n",
       "\n",
       "    .dataframe thead th {\n",
       "        text-align: right;\n",
       "    }\n",
       "</style>\n",
       "<table border=\"1\" class=\"dataframe\">\n",
       "  <thead>\n",
       "    <tr style=\"text-align: right;\">\n",
       "      <th></th>\n",
       "      <th>size</th>\n",
       "      <th>price</th>\n",
       "    </tr>\n",
       "  </thead>\n",
       "  <tbody>\n",
       "    <tr>\n",
       "      <th>0</th>\n",
       "      <td>1600</td>\n",
       "      <td>329900</td>\n",
       "    </tr>\n",
       "    <tr>\n",
       "      <th>1</th>\n",
       "      <td>2400</td>\n",
       "      <td>369000</td>\n",
       "    </tr>\n",
       "    <tr>\n",
       "      <th>2</th>\n",
       "      <td>1416</td>\n",
       "      <td>232000</td>\n",
       "    </tr>\n",
       "    <tr>\n",
       "      <th>3</th>\n",
       "      <td>3000</td>\n",
       "      <td>539900</td>\n",
       "    </tr>\n",
       "    <tr>\n",
       "      <th>4</th>\n",
       "      <td>1985</td>\n",
       "      <td>299900</td>\n",
       "    </tr>\n",
       "  </tbody>\n",
       "</table>\n",
       "</div>"
      ],
      "text/plain": [
       "   size   price\n",
       "0  1600  329900\n",
       "1  2400  369000\n",
       "2  1416  232000\n",
       "3  3000  539900\n",
       "4  1985  299900"
      ]
     },
     "execution_count": 4,
     "metadata": {},
     "output_type": "execute_result"
    }
   ],
   "source": [
    "data.head()"
   ]
  },
  {
   "cell_type": "code",
   "execution_count": 5,
   "id": "e60f9971",
   "metadata": {},
   "outputs": [
    {
     "data": {
      "text/html": [
       "<div>\n",
       "<style scoped>\n",
       "    .dataframe tbody tr th:only-of-type {\n",
       "        vertical-align: middle;\n",
       "    }\n",
       "\n",
       "    .dataframe tbody tr th {\n",
       "        vertical-align: top;\n",
       "    }\n",
       "\n",
       "    .dataframe thead th {\n",
       "        text-align: right;\n",
       "    }\n",
       "</style>\n",
       "<table border=\"1\" class=\"dataframe\">\n",
       "  <thead>\n",
       "    <tr style=\"text-align: right;\">\n",
       "      <th></th>\n",
       "      <th>size</th>\n",
       "      <th>price</th>\n",
       "    </tr>\n",
       "  </thead>\n",
       "  <tbody>\n",
       "    <tr>\n",
       "      <th>count</th>\n",
       "      <td>46.000000</td>\n",
       "      <td>46.000000</td>\n",
       "    </tr>\n",
       "    <tr>\n",
       "      <th>mean</th>\n",
       "      <td>1998.434783</td>\n",
       "      <td>339119.456522</td>\n",
       "    </tr>\n",
       "    <tr>\n",
       "      <th>std</th>\n",
       "      <td>803.333019</td>\n",
       "      <td>126103.418369</td>\n",
       "    </tr>\n",
       "    <tr>\n",
       "      <th>min</th>\n",
       "      <td>852.000000</td>\n",
       "      <td>169900.000000</td>\n",
       "    </tr>\n",
       "    <tr>\n",
       "      <th>25%</th>\n",
       "      <td>1429.500000</td>\n",
       "      <td>249900.000000</td>\n",
       "    </tr>\n",
       "    <tr>\n",
       "      <th>50%</th>\n",
       "      <td>1870.000000</td>\n",
       "      <td>299900.000000</td>\n",
       "    </tr>\n",
       "    <tr>\n",
       "      <th>75%</th>\n",
       "      <td>2284.500000</td>\n",
       "      <td>368875.000000</td>\n",
       "    </tr>\n",
       "    <tr>\n",
       "      <th>max</th>\n",
       "      <td>4478.000000</td>\n",
       "      <td>699900.000000</td>\n",
       "    </tr>\n",
       "  </tbody>\n",
       "</table>\n",
       "</div>"
      ],
      "text/plain": [
       "              size          price\n",
       "count    46.000000      46.000000\n",
       "mean   1998.434783  339119.456522\n",
       "std     803.333019  126103.418369\n",
       "min     852.000000  169900.000000\n",
       "25%    1429.500000  249900.000000\n",
       "50%    1870.000000  299900.000000\n",
       "75%    2284.500000  368875.000000\n",
       "max    4478.000000  699900.000000"
      ]
     },
     "execution_count": 5,
     "metadata": {},
     "output_type": "execute_result"
    }
   ],
   "source": [
    "data.describe()"
   ]
  },
  {
   "cell_type": "code",
   "execution_count": 7,
   "id": "908832e9",
   "metadata": {},
   "outputs": [
    {
     "data": {
      "image/png": "[encoded data removed]",
      "text/plain": [
       "<Figure size 640x480 with 1 Axes>"
      ]
     },
     "metadata": {},
     "output_type": "display_data"
    }
   ],
   "source": [
    "#scatter plot\n",
    "data.plot(x='size', y='price', kind='scatter')\n",
    "plt.show()"
   ]
  },
  {
   "cell_type": "code",
   "execution_count": 8,
   "id": "424ef4ba",
   "metadata": {},
   "outputs": [],
   "source": [
    "# We will use Feature scaling and Mean Normalization techniques that will be helpful for gradient descent\n",
    "# as gradient descent will descned quickly on small ranges and slowly on large ranges, so we want all the values to be roughly in the same range\n",
    "\n",
    "# Using feature scaling: dividing input values by range (max-min value) of input var\n",
    "\n",
    "data = (data - np.mean(data))/np.std(data)                   #formula for feature scaling:  new var value = (old value - mean(whole data))/ standard_deviation(whole data)\n"
   ]
  },
  {
   "cell_type": "code",
   "execution_count": 9,
   "id": "3f7db450",
   "metadata": {},
   "outputs": [
    {
     "data": {
      "text/html": [
       "<div>\n",
       "<style scoped>\n",
       "    .dataframe tbody tr th:only-of-type {\n",
       "        vertical-align: middle;\n",
       "    }\n",
       "\n",
       "    .dataframe tbody tr th {\n",
       "        vertical-align: top;\n",
       "    }\n",
       "\n",
       "    .dataframe thead th {\n",
       "        text-align: right;\n",
       "    }\n",
       "</style>\n",
       "<table border=\"1\" class=\"dataframe\">\n",
       "  <thead>\n",
       "    <tr style=\"text-align: right;\">\n",
       "      <th></th>\n",
       "      <th>size</th>\n",
       "      <th>price</th>\n",
       "    </tr>\n",
       "  </thead>\n",
       "  <tbody>\n",
       "    <tr>\n",
       "      <th>count</th>\n",
       "      <td>4.600000e+01</td>\n",
       "      <td>4.600000e+01</td>\n",
       "    </tr>\n",
       "    <tr>\n",
       "      <th>mean</th>\n",
       "      <td>-1.303305e-16</td>\n",
       "      <td>-3.620292e-17</td>\n",
       "    </tr>\n",
       "    <tr>\n",
       "      <th>std</th>\n",
       "      <td>1.011050e+00</td>\n",
       "      <td>1.011050e+00</td>\n",
       "    </tr>\n",
       "    <tr>\n",
       "      <th>min</th>\n",
       "      <td>-1.442867e+00</td>\n",
       "      <td>-1.356738e+00</td>\n",
       "    </tr>\n",
       "    <tr>\n",
       "      <th>25%</th>\n",
       "      <td>-7.160437e-01</td>\n",
       "      <td>-7.153282e-01</td>\n",
       "    </tr>\n",
       "    <tr>\n",
       "      <th>50%</th>\n",
       "      <td>-1.616440e-01</td>\n",
       "      <td>-3.144469e-01</td>\n",
       "    </tr>\n",
       "    <tr>\n",
       "      <th>75%</th>\n",
       "      <td>3.600328e-01</td>\n",
       "      <td>2.385688e-01</td>\n",
       "    </tr>\n",
       "    <tr>\n",
       "      <th>max</th>\n",
       "      <td>3.120704e+00</td>\n",
       "      <td>2.892604e+00</td>\n",
       "    </tr>\n",
       "  </tbody>\n",
       "</table>\n",
       "</div>"
      ],
      "text/plain": [
       "               size         price\n",
       "count  4.600000e+01  4.600000e+01\n",
       "mean  -1.303305e-16 -3.620292e-17\n",
       "std    1.011050e+00  1.011050e+00\n",
       "min   -1.442867e+00 -1.356738e+00\n",
       "25%   -7.160437e-01 -7.153282e-01\n",
       "50%   -1.616440e-01 -3.144469e-01\n",
       "75%    3.600328e-01  2.385688e-01\n",
       "max    3.120704e+00  2.892604e+00"
      ]
     },
     "execution_count": 9,
     "metadata": {},
     "output_type": "execute_result"
    }
   ],
   "source": [
    "data.describe()"
   ]
  },
  {
   "cell_type": "code",
   "execution_count": 11,
   "id": "bc399c25",
   "metadata": {},
   "outputs": [
    {
     "data": {
      "image/png": "[encoded data removed]",
      "text/plain": [
       "<Figure size 640x480 with 1 Axes>"
      ]
     },
     "metadata": {},
     "output_type": "display_data"
    }
   ],
   "source": [
    "# now again, scatter plot:\n",
    "data.plot(x='size', y='price', kind='scatter')\n",
    "plt.show()"
   ]
  },
  {
   "cell_type": "code",
   "execution_count": 12,
   "id": "b71f9644",
   "metadata": {},
   "outputs": [],
   "source": [
    "# initializing the theta matrix(parameters)  randomly:\n",
    "\n",
    "# theta=np.matrix(np.array[0,0])\n",
    "\n",
    "theta= np.random.randn(1,2)    # random values between 1 and 2"
   ]
  },
  {
   "cell_type": "code",
   "execution_count": 18,
   "id": "3ac18854",
   "metadata": {},
   "outputs": [
    {
     "data": {
      "text/html": [
       "<div>\n",
       "<style scoped>\n",
       "    .dataframe tbody tr th:only-of-type {\n",
       "        vertical-align: middle;\n",
       "    }\n",
       "\n",
       "    .dataframe tbody tr th {\n",
       "        vertical-align: top;\n",
       "    }\n",
       "\n",
       "    .dataframe thead th {\n",
       "        text-align: right;\n",
       "    }\n",
       "</style>\n",
       "<table border=\"1\" class=\"dataframe\">\n",
       "  <thead>\n",
       "    <tr style=\"text-align: right;\">\n",
       "      <th></th>\n",
       "      <th>Ones</th>\n",
       "      <th>size</th>\n",
       "      <th>price</th>\n",
       "    </tr>\n",
       "  </thead>\n",
       "  <tbody>\n",
       "    <tr>\n",
       "      <th>0</th>\n",
       "      <td>1</td>\n",
       "      <td>-0.501458</td>\n",
       "      <td>-0.073918</td>\n",
       "    </tr>\n",
       "    <tr>\n",
       "      <th>1</th>\n",
       "      <td>1</td>\n",
       "      <td>0.505398</td>\n",
       "      <td>0.239571</td>\n",
       "    </tr>\n",
       "    <tr>\n",
       "      <th>2</th>\n",
       "      <td>1</td>\n",
       "      <td>-0.733034</td>\n",
       "      <td>-0.858844</td>\n",
       "    </tr>\n",
       "    <tr>\n",
       "      <th>3</th>\n",
       "      <td>1</td>\n",
       "      <td>1.260539</td>\n",
       "      <td>1.609783</td>\n",
       "    </tr>\n",
       "    <tr>\n",
       "      <th>4</th>\n",
       "      <td>1</td>\n",
       "      <td>-0.016909</td>\n",
       "      <td>-0.314447</td>\n",
       "    </tr>\n",
       "  </tbody>\n",
       "</table>\n",
       "</div>"
      ],
      "text/plain": [
       "   Ones      size     price\n",
       "0     1 -0.501458 -0.073918\n",
       "1     1  0.505398  0.239571\n",
       "2     1 -0.733034 -0.858844\n",
       "3     1  1.260539  1.609783\n",
       "4     1 -0.016909 -0.314447"
      ]
     },
     "execution_count": 18,
     "metadata": {},
     "output_type": "execute_result"
    }
   ],
   "source": [
    "# INSERTING COLUMN OF ONES:\n",
    "\n",
    "# SINCE WE HAVE ONLY TWO VARIABLES, WE HAVE TWO PARAMETERS theta[0] and theta[1] and our hypothesis function looks like:\n",
    "\n",
    "# h(x) = theta[0] + theta[1] * data[x]\n",
    "\n",
    "# which can also be written as:  h(x) = theta[0] * 1 + theta[1] * data[x]\n",
    "\n",
    "# thus adding a column of ones will givs us the required dot product for the hypothesis function\n",
    "\n",
    "data.insert(0, 'Ones', 1)              #insert at 0th position\n",
    "data.head()"
   ]
  },
  {
   "cell_type": "code",
   "execution_count": 21,
   "id": "b2dee261",
   "metadata": {},
   "outputs": [
    {
     "data": {
      "text/html": [
       "<div>\n",
       "<style scoped>\n",
       "    .dataframe tbody tr th:only-of-type {\n",
       "        vertical-align: middle;\n",
       "    }\n",
       "\n",
       "    .dataframe tbody tr th {\n",
       "        vertical-align: top;\n",
       "    }\n",
       "\n",
       "    .dataframe thead th {\n",
       "        text-align: right;\n",
       "    }\n",
       "</style>\n",
       "<table border=\"1\" class=\"dataframe\">\n",
       "  <thead>\n",
       "    <tr style=\"text-align: right;\">\n",
       "      <th></th>\n",
       "      <th>Ones</th>\n",
       "      <th>size</th>\n",
       "    </tr>\n",
       "  </thead>\n",
       "  <tbody>\n",
       "    <tr>\n",
       "      <th>0</th>\n",
       "      <td>1</td>\n",
       "      <td>-0.501458</td>\n",
       "    </tr>\n",
       "    <tr>\n",
       "      <th>1</th>\n",
       "      <td>1</td>\n",
       "      <td>0.505398</td>\n",
       "    </tr>\n",
       "    <tr>\n",
       "      <th>2</th>\n",
       "      <td>1</td>\n",
       "      <td>-0.733034</td>\n",
       "    </tr>\n",
       "    <tr>\n",
       "      <th>3</th>\n",
       "      <td>1</td>\n",
       "      <td>1.260539</td>\n",
       "    </tr>\n",
       "    <tr>\n",
       "      <th>4</th>\n",
       "      <td>1</td>\n",
       "      <td>-0.016909</td>\n",
       "    </tr>\n",
       "  </tbody>\n",
       "</table>\n",
       "</div>"
      ],
      "text/plain": [
       "   Ones      size\n",
       "0     1 -0.501458\n",
       "1     1  0.505398\n",
       "2     1 -0.733034\n",
       "3     1  1.260539\n",
       "4     1 -0.016909"
      ]
     },
     "execution_count": 21,
     "metadata": {},
     "output_type": "execute_result"
    }
   ],
   "source": [
    "x = data.iloc[:,0:2]\n",
    "x.head()"
   ]
  },
  {
   "cell_type": "code",
   "execution_count": 22,
   "id": "9e131313",
   "metadata": {},
   "outputs": [
    {
     "data": {
      "text/plain": [
       "0   -0.073918\n",
       "1    0.239571\n",
       "2   -0.858844\n",
       "3    1.609783\n",
       "4   -0.314447\n",
       "Name: price, dtype: float64"
      ]
     },
     "execution_count": 22,
     "metadata": {},
     "output_type": "execute_result"
    }
   ],
   "source": [
    "y= data['price']\n",
    "y.head()"
   ]
  },
  {
   "cell_type": "code",
   "execution_count": 23,
   "id": "b3e09aa3",
   "metadata": {},
   "outputs": [],
   "source": [
    "x = np.matrix(x)\n",
    "y = np.matrix(y)\n",
    "y = y.T"
   ]
  },
  {
   "cell_type": "code",
   "execution_count": 24,
   "id": "b8ca21db",
   "metadata": {},
   "outputs": [
    {
     "data": {
      "text/plain": [
       "((46, 2), (1, 2), (46, 1))"
      ]
     },
     "execution_count": 24,
     "metadata": {},
     "output_type": "execute_result"
    }
   ],
   "source": [
    "x.shape, theta.shape, y.shape"
   ]
  },
  {
   "cell_type": "code",
   "execution_count": 25,
   "id": "b6045225",
   "metadata": {},
   "outputs": [
    {
     "data": {
      "text/plain": [
       "array([[ 0.81229916, -0.60740058]])"
      ]
     },
     "execution_count": 25,
     "metadata": {},
     "output_type": "execute_result"
    }
   ],
   "source": [
    "theta"
   ]
  },
  {
   "cell_type": "code",
   "execution_count": 27,
   "id": "3bac4f4b",
   "metadata": {},
   "outputs": [],
   "source": [
    "# CALUCULATING COST/ERROR/LOSS FUNCTION:\n",
    "\n",
    "def computeCost(x, y, theta):\n",
    "    # initialize values\n",
    "    m = 46   # total number of training examples\n",
    "    J = 0   # initial cost\n",
    "    h = np.matmul(x, theta.T)   # here we need to take transpose of theta for matrix multiplication\n",
    "    J= (1/ (2 * m)) *  np.sum( np.square(h-y))    # formula for cost function\n",
    "    return J"
   ]
  },
  {
   "cell_type": "code",
   "execution_count": 28,
   "id": "d31373d3",
   "metadata": {},
   "outputs": [
    {
     "data": {
      "text/plain": [
       "1.5342740226699445"
      ]
     },
     "execution_count": 28,
     "metadata": {},
     "output_type": "execute_result"
    }
   ],
   "source": [
    "computeCost(x,y,theta)"
   ]
  },
  {
   "cell_type": "code",
   "execution_count": 33,
   "id": "1b85806c",
   "metadata": {},
   "outputs": [],
   "source": [
    "# GRADIENT DESCENT FUNCTION\n",
    "\n",
    "def gradientDescent(x, y, theta, num_iters,lr):\n",
    "    \"\"\"\n",
    "    Performs gradient descent to learn `theta`. Updates theta by taking `num_iters`\n",
    "    gradient steps with learning rate `lr`.\n",
    "    \n",
    "    Parameters\n",
    "    ----------\n",
    "    X : array_like\n",
    "        The input dataset of shape (m , n+1).\n",
    "    \n",
    "    y : arra_like\n",
    "        Value at given features. A vector of shape (m,1 ).\n",
    "    \n",
    "    theta : array_like\n",
    "        Initial values for the linear regression parameters. \n",
    "        A vector of shape (1,n+1 ).\n",
    "        \n",
    "    lr : float\n",
    "        The learning rate.\n",
    "    \n",
    "    num_iters : int\n",
    "        The number of iterations for gradient descent. \n",
    "    \n",
    "    Returns\n",
    "    -------\n",
    "    theta : array_like\n",
    "        The learned linear regression parameters. A vector of shape (1,n+1 ).\n",
    "    \n",
    "    J_history : list\n",
    "        A python list for the values of the cost function after each iteration.\n",
    "    \n",
    "    Instructions\n",
    "    ------------\n",
    "    Peform a single gradient step on the parameter vector theta.\n",
    "\n",
    "    While debugging, it can be useful to print out the values of \n",
    "    the cost function (computeCost) and gradient here.\n",
    "    \"\"\"\n",
    "    temp = np.matrix(np.zeros(theta.shape))\n",
    "    cost = np.zeros(num_iters)\n",
    "    \n",
    "    for i in range(num_iters):\n",
    "        h = np.matmul(x, theta.T)\n",
    "        error = h-y\n",
    "        for j in range(2):\n",
    "            term = np.multiply(error, x[:,j])\n",
    "            temp[0,j] = theta[0,j] - ((lr/ len(x)) * np.sum(term))\n",
    "            \n",
    "        theta = temp\n",
    "        cost[i] = computeCost(x, y, theta)\n",
    "        \n",
    "    return theta, cost"
   ]
  },
  {
   "cell_type": "code",
   "execution_count": 34,
   "id": "c41dfb1f",
   "metadata": {},
   "outputs": [
    {
     "name": "stdout",
     "output_type": "stream",
     "text": [
      "[[2.95360831e-12 8.55928253e-01]] [1.26816371 1.05261435 0.87801937 0.73659744 0.62204568 0.52925875\n",
      " 0.45410133 0.39322383 0.34391305 0.30397132 0.27161852 0.24541275\n",
      " 0.22418607 0.20699247 0.19306565 0.18178492 0.17264754 0.16524625\n",
      " 0.15925121 0.15439523 0.15046189 0.14727588 0.14469521 0.14260487\n",
      " 0.14091169 0.13954022 0.13842932 0.1375295  0.13680064 0.13621027\n",
      " 0.13573207 0.13534472 0.13503097 0.13477684 0.13457099 0.13440425\n",
      " 0.13426919 0.13415979 0.13407118 0.1339994  0.13394127 0.13389417\n",
      " 0.13385603 0.13382513 0.13380011 0.13377983 0.13376341 0.13375011\n",
      " 0.13373934 0.13373061 0.13372355 0.13371782 0.13371318 0.13370943\n",
      " 0.13370638 0.13370392 0.13370192 0.13370031 0.133699   0.13369794\n",
      " 0.13369708 0.13369638 0.13369582 0.13369536 0.13369499 0.13369469\n",
      " 0.13369445 0.13369425 0.13369409 0.13369396 0.13369386 0.13369377\n",
      " 0.13369371 0.13369365 0.1336936  0.13369357 0.13369354 0.13369351\n",
      " 0.1336935  0.13369348 0.13369347 0.13369346 0.13369345 0.13369344\n",
      " 0.13369344 0.13369343 0.13369343 0.13369343 0.13369342 0.13369342\n",
      " 0.13369342 0.13369342 0.13369342 0.13369342 0.13369342 0.13369342\n",
      " 0.13369341 0.13369341 0.13369341 0.13369341 0.13369341 0.13369341\n",
      " 0.13369341 0.13369341 0.13369341 0.13369341 0.13369341 0.13369341\n",
      " 0.13369341 0.13369341 0.13369341 0.13369341 0.13369341 0.13369341\n",
      " 0.13369341 0.13369341 0.13369341 0.13369341 0.13369341 0.13369341\n",
      " 0.13369341 0.13369341 0.13369341 0.13369341 0.13369341 0.13369341\n",
      " 0.13369341 0.13369341 0.13369341 0.13369341 0.13369341 0.13369341\n",
      " 0.13369341 0.13369341 0.13369341 0.13369341 0.13369341 0.13369341\n",
      " 0.13369341 0.13369341 0.13369341 0.13369341 0.13369341 0.13369341\n",
      " 0.13369341 0.13369341 0.13369341 0.13369341 0.13369341 0.13369341\n",
      " 0.13369341 0.13369341 0.13369341 0.13369341 0.13369341 0.13369341\n",
      " 0.13369341 0.13369341 0.13369341 0.13369341 0.13369341 0.13369341\n",
      " 0.13369341 0.13369341 0.13369341 0.13369341 0.13369341 0.13369341\n",
      " 0.13369341 0.13369341 0.13369341 0.13369341 0.13369341 0.13369341\n",
      " 0.13369341 0.13369341 0.13369341 0.13369341 0.13369341 0.13369341\n",
      " 0.13369341 0.13369341 0.13369341 0.13369341 0.13369341 0.13369341\n",
      " 0.13369341 0.13369341 0.13369341 0.13369341 0.13369341 0.13369341\n",
      " 0.13369341 0.13369341 0.13369341 0.13369341 0.13369341 0.13369341\n",
      " 0.13369341 0.13369341 0.13369341 0.13369341 0.13369341 0.13369341\n",
      " 0.13369341 0.13369341 0.13369341 0.13369341 0.13369341 0.13369341\n",
      " 0.13369341 0.13369341 0.13369341 0.13369341 0.13369341 0.13369341\n",
      " 0.13369341 0.13369341 0.13369341 0.13369341 0.13369341 0.13369341\n",
      " 0.13369341 0.13369341 0.13369341 0.13369341 0.13369341 0.13369341\n",
      " 0.13369341 0.13369341 0.13369341 0.13369341 0.13369341 0.13369341\n",
      " 0.13369341 0.13369341 0.13369341 0.13369341 0.13369341 0.13369341\n",
      " 0.13369341 0.13369341 0.13369341 0.13369341 0.13369341 0.13369341\n",
      " 0.13369341 0.13369341 0.13369341 0.13369341]\n"
     ]
    }
   ],
   "source": [
    "# REDUCING THE COST/ERROR/LOSS USING GRADIENT DESCENT:\n",
    "\n",
    "number_of_iterations = 250   # these many times gradient descent will be applied\n",
    "new_theta , cost  = gradientDescent(x, y, theta, number_of_iterations, lr=0.1)    # here, lr = learning rate or alpha\n",
    "print(new_theta, cost)"
   ]
  },
  {
   "cell_type": "code",
   "execution_count": 35,
   "id": "a833e4aa",
   "metadata": {},
   "outputs": [],
   "source": [
    "Model_price = new_theta[0,0] + (new_theta[0,1] * x)   # according to our hypothesis function"
   ]
  },
  {
   "cell_type": "code",
   "execution_count": 39,
   "id": "2ff3c71a",
   "metadata": {},
   "outputs": [
    {
     "data": {
      "text/plain": [
       "Text(0.5, 1.0, 'Predicted price vs Size')"
      ]
     },
     "execution_count": 39,
     "metadata": {},
     "output_type": "execute_result"
    },
    {
     "data": {
      "image/png": "[encoded data removed]",
      "text/plain": [
       "<Figure size 640x480 with 1 Axes>"
      ]
     },
     "metadata": {},
     "output_type": "display_data"
    }
   ],
   "source": [
    "# plotting graph\n",
    "fig, ax = plt.subplots()\n",
    "ax.plot(x, Model_price, 'r', label='Prediction')\n",
    "ax.scatter(data['size'], data.price, label='Training Data')\n",
    "ax.legend(loc=2)\n",
    "ax.set_xlabel('Size')\n",
    "ax.set_ylabel('Price')\n",
    "ax.set_title('Predicted price vs Size')"
   ]
  },
  {
   "cell_type": "code",
   "execution_count": 42,
   "id": "57eaec2a",
   "metadata": {},
   "outputs": [
    {
     "data": {
      "text/plain": [
       "Text(0.5, 1.0, 'Cost v/s Number of Iterations')"
      ]
     },
     "execution_count": 42,
     "metadata": {},
     "output_type": "execute_result"
    },
    {
     "data": {
      "image/png": "[encoded data removed]",
      "text/plain": [
       "<Figure size 640x480 with 1 Axes>"
      ]
     },
     "metadata": {},
     "output_type": "display_data"
    }
   ],
   "source": [
    "# plotting a graph between cost function vs number of iterations\n",
    "fig, ax = plt.subplots()\n",
    "ax.plot(np.arange(number_of_iterations), cost, 'r')\n",
    "ax.set_xlabel('Iterations')\n",
    "ax.set_ylabel('Cost')\n",
    "ax.set_title('Cost v/s Number of Iterations')"
   ]
  },
  {
   "cell_type": "code",
   "execution_count": 43,
   "id": "82edd1f7",
   "metadata": {},
   "outputs": [],
   "source": [
    "# It is advised to keep your lr or learning rate or alpha suitably (not too low or not too high) otherwise the function may overshoot or grow slowly"
   ]
  },
  {
   "cell_type": "code",
   "execution_count": null,
   "id": "076de276",
   "metadata": {},
   "outputs": [],
   "source": []
  }
 ],
 "metadata": {
  "kernelspec": {
   "display_name": "Python 3 (ipykernel)",
   "language": "python",
   "name": "python3"
  },
  "language_info": {
   "codemirror_mode": {
    "name": "ipython",
    "version": 3
   },
   "file_extension": ".py",
   "mimetype": "text/x-python",
   "name": "python",
   "nbconvert_exporter": "python",
   "pygments_lexer": "ipython3",
   "version": "3.10.0"
  }
 },
 "nbformat": 4,
 "nbformat_minor": 5
}
